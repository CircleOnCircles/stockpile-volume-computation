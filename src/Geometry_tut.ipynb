{
 "metadata": {
  "language_info": {
   "codemirror_mode": {
    "name": "ipython",
    "version": 3
   },
   "file_extension": ".py",
   "mimetype": "text/x-python",
   "name": "python",
   "nbconvert_exporter": "python",
   "pygments_lexer": "ipython3",
   "version": "3.8.5-final"
  },
  "orig_nbformat": 2,
  "kernelspec": {
   "name": "python38564bitvenv7144ada2c869475ca2adf881afadc0c5",
   "display_name": "Python 3.8.5 64-bit ('venv')",
   "language": "python"
  }
 },
 "nbformat": 4,
 "nbformat_minor": 2,
 "cells": [
  {
   "cell_type": "code",
   "execution_count": 1,
   "metadata": {},
   "outputs": [],
   "source": [
    "import open3d as o3d\n",
    "import numpy as np"
   ]
  },
  {
   "cell_type": "code",
   "execution_count": 2,
   "metadata": {},
   "outputs": [
    {
     "output_type": "stream",
     "name": "stdout",
     "text": [
      "PointCloud with 195146 points.\n[[-1.10449219  0.68310547 -1.63476562]\n [-1.09375     0.67871094 -1.625     ]\n [-1.08789062  0.67724609 -1.62207031]\n ...\n [ 0.76660156 -0.55664062 -1.42480469]\n [ 0.77148438 -0.55761719 -1.42773438]\n [ 0.77539062 -0.55810547 -1.42871094]]\n"
     ]
    }
   ],
   "source": [
    "pcd = o3d.io.read_point_cloud(\"data/test_capture.ply\")\n",
    "print(pcd)\n",
    "print(np.asarray(pcd.points))\n",
    "o3d.visualization.draw_geometries([pcd])"
   ]
  },
  {
   "cell_type": "code",
   "execution_count": 8,
   "metadata": {},
   "outputs": [
    {
     "output_type": "stream",
     "name": "stdout",
     "text": [
      "Downsample the point cloud with a voxel of 0.05\n[Open3D INFO]   -- Mouse view control --\n[Open3D INFO]     Left button + drag         : Rotate.\n[Open3D INFO]     Ctrl + left button + drag  : Translate.\n[Open3D INFO]     Wheel button + drag        : Translate.\n[Open3D INFO]     Shift + left button + drag : Roll.\n[Open3D INFO]     Wheel                      : Zoom in/out.\n[Open3D INFO] \n[Open3D INFO]   -- Keyboard view control --\n[Open3D INFO]     [/]          : Increase/decrease field of view.\n[Open3D INFO]     R            : Reset view point.\n[Open3D INFO]     Ctrl/Cmd + C : Copy current view status into the clipboard.\n[Open3D INFO]     Ctrl/Cmd + V : Paste view status from clipboard.\n[Open3D INFO] \n[Open3D INFO]   -- General control --\n[Open3D INFO]     Q, Esc       : Exit window.\n[Open3D INFO]     H            : Print help message.\n[Open3D INFO]     P, PrtScn    : Take a screen capture.\n[Open3D INFO]     D            : Take a depth capture.\n[Open3D INFO]     O            : Take a capture of current rendering settings.\n[Open3D INFO]     Alt + Enter  : Toggle between full screen and windowed mode.\n[Open3D INFO] \n[Open3D INFO]   -- Render mode control --\n[Open3D INFO]     L            : Turn on/off lighting.\n[Open3D INFO]     +/-          : Increase/decrease point size.\n[Open3D INFO]     Ctrl + +/-   : Increase/decrease width of geometry::LineSet.\n[Open3D INFO]     N            : Turn on/off point cloud normal rendering.\n[Open3D INFO]     S            : Toggle between mesh flat shading and smooth shading.\n[Open3D INFO]     W            : Turn on/off mesh wireframe.\n[Open3D INFO]     B            : Turn on/off back face rendering.\n[Open3D INFO]     I            : Turn on/off image zoom in interpolation.\n[Open3D INFO]     T            : Toggle among image render:\n[Open3D INFO]                    no stretch / keep ratio / freely stretch.\n[Open3D INFO] \n[Open3D INFO]   -- Color control --\n[Open3D INFO]     0..4,9       : Set point cloud color option.\n[Open3D INFO]                    0 - Default behavior, render point color.\n[Open3D INFO]                    1 - Render point color.\n[Open3D INFO]                    2 - x coordinate as color.\n[Open3D INFO]                    3 - y coordinate as color.\n[Open3D INFO]                    4 - z coordinate as color.\n[Open3D INFO]                    9 - normal as color.\n[Open3D INFO]     Ctrl + 0..4,9: Set mesh color option.\n[Open3D INFO]                    0 - Default behavior, render uniform gray color.\n[Open3D INFO]                    1 - Render point color.\n[Open3D INFO]                    2 - x coordinate as color.\n[Open3D INFO]                    3 - y coordinate as color.\n[Open3D INFO]                    4 - z coordinate as color.\n[Open3D INFO]                    9 - normal as color.\n[Open3D INFO]     Shift + 0..4 : Color map options.\n[Open3D INFO]                    0 - Gray scale color.\n[Open3D INFO]                    1 - JET color map.\n[Open3D INFO]                    2 - SUMMER color map.\n[Open3D INFO]                    3 - WINTER color map.\n[Open3D INFO]                    4 - HOT color map.\n[Open3D INFO] \n[Open3D INFO]   -- Mouse view control --\n[Open3D INFO]     Left button + drag         : Rotate.\n[Open3D INFO]     Ctrl + left button + drag  : Translate.\n[Open3D INFO]     Wheel button + drag        : Translate.\n[Open3D INFO]     Shift + left button + drag : Roll.\n[Open3D INFO]     Wheel                      : Zoom in/out.\n[Open3D INFO] \n[Open3D INFO]   -- Keyboard view control --\n[Open3D INFO]     [/]          : Increase/decrease field of view.\n[Open3D INFO]     R            : Reset view point.\n[Open3D INFO]     Ctrl/Cmd + C : Copy current view status into the clipboard.\n[Open3D INFO]     Ctrl/Cmd + V : Paste view status from clipboard.\n[Open3D INFO] \n[Open3D INFO]   -- General control --\n[Open3D INFO]     Q, Esc       : Exit window.\n[Open3D INFO]     H            : Print help message.\n[Open3D INFO]     P, PrtScn    : Take a screen capture.\n[Open3D INFO]     D            : Take a depth capture.\n[Open3D INFO]     O            : Take a capture of current rendering settings.\n[Open3D INFO]     Alt + Enter  : Toggle between full screen and windowed mode.\n[Open3D INFO] \n[Open3D INFO]   -- Render mode control --\n[Open3D INFO]     L            : Turn on/off lighting.\n[Open3D INFO]     +/-          : Increase/decrease point size.\n[Open3D INFO]     Ctrl + +/-   : Increase/decrease width of geometry::LineSet.\n[Open3D INFO]     N            : Turn on/off point cloud normal rendering.\n[Open3D INFO]     S            : Toggle between mesh flat shading and smooth shading.\n[Open3D INFO]     W            : Turn on/off mesh wireframe.\n[Open3D INFO]     B            : Turn on/off back face rendering.\n[Open3D INFO]     I            : Turn on/off image zoom in interpolation.\n[Open3D INFO]     T            : Toggle among image render:\n[Open3D INFO]                    no stretch / keep ratio / freely stretch.\n[Open3D INFO] \n[Open3D INFO]   -- Color control --\n[Open3D INFO]     0..4,9       : Set point cloud color option.\n[Open3D INFO]                    0 - Default behavior, render point color.\n[Open3D INFO]                    1 - Render point color.\n[Open3D INFO]                    2 - x coordinate as color.\n[Open3D INFO]                    3 - y coordinate as color.\n[Open3D INFO]                    4 - z coordinate as color.\n[Open3D INFO]                    9 - normal as color.\n[Open3D INFO]     Ctrl + 0..4,9: Set mesh color option.\n[Open3D INFO]                    0 - Default behavior, render uniform gray color.\n[Open3D INFO]                    1 - Render point color.\n[Open3D INFO]                    2 - x coordinate as color.\n[Open3D INFO]                    3 - y coordinate as color.\n[Open3D INFO]                    4 - z coordinate as color.\n[Open3D INFO]                    9 - normal as color.\n[Open3D INFO]     Shift + 0..4 : Color map options.\n[Open3D INFO]                    0 - Gray scale color.\n[Open3D INFO]                    1 - JET color map.\n[Open3D INFO]                    2 - SUMMER color map.\n[Open3D INFO]                    3 - WINTER color map.\n[Open3D INFO]                    4 - HOT color map.\n[Open3D INFO] \n"
     ]
    }
   ],
   "source": [
    "print(\"Downsample the point cloud with a voxel of 0.05\")\n",
    "downpcd = pcd.voxel_down_sample(voxel_size=0.05)\n",
    "o3d.visualization.draw_geometries([downpcd],\n",
    "                                  zoom=0.3412,\n",
    "                                  front=[0.4257, -0.2125, -0.8795],\n",
    "                                  lookat=[2.6172, 2.0475, 1.532],\n",
    "                                  up=[-0.0694, -0.9768, 0.2024])"
   ]
  },
  {
   "cell_type": "code",
   "execution_count": 10,
   "metadata": {},
   "outputs": [
    {
     "output_type": "stream",
     "name": "stdout",
     "text": [
      "Load a polygon volume and use it to crop the original point cloud\n"
     ]
    }
   ],
   "source": [
    "print(\"Load a polygon volume and use it to crop the original point cloud\")\n",
    "vol = o3d.visualization.read_selection_polygon_volume(\n",
    "    \"data/cropped.json\")\n",
    "chair = vol.crop_point_cloud(pcd)\n",
    "o3d.visualization.draw_geometries([chair],\n",
    "                                  zoom=0.7,\n",
    "                                  front=[0.5439, -0.2333, -0.8060],\n",
    "                                  lookat=[2.4615, 2.1331, 1.338],\n",
    "                                  up=[-0.1781, -0.9708, 0.1608])\n",
    "\n"
   ]
  },
  {
   "cell_type": "code",
   "execution_count": 11,
   "metadata": {},
   "outputs": [
    {
     "output_type": "stream",
     "name": "stdout",
     "text": [
      "Paint chair\n"
     ]
    }
   ],
   "source": [
    "print(\"Paint chair\")\n",
    "chair.paint_uniform_color([1, 0.706, 0])\n",
    "o3d.visualization.draw_geometries([chair],\n",
    "                                  zoom=0.7,\n",
    "                                  front=[0.5439, -0.2333, -0.8060],\n",
    "                                  lookat=[2.4615, 2.1331, 1.338],\n",
    "                                  up=[-0.1781, -0.9708, 0.1608])"
   ]
  },
  {
   "cell_type": "code",
   "execution_count": 13,
   "metadata": {},
   "outputs": [],
   "source": [
    "# Load data\n",
    "pcd = o3d.io.read_point_cloud(\"data/fragment.ply\")\n",
    "vol = o3d.visualization.read_selection_polygon_volume(\n",
    "    \"data/cropped.json\")\n",
    "chair = vol.crop_point_cloud(pcd)\n",
    "\n",
    "dists = pcd.compute_point_cloud_distance(chair)\n",
    "dists = np.asarray(dists)\n",
    "ind = np.where(dists > 0.01)[0]\n",
    "pcd_without_chair = pcd.select_by_index(ind)\n",
    "o3d.visualization.draw_geometries([pcd_without_chair],\n",
    "                                  zoom=0.3412,\n",
    "                                  front=[0.4257, -0.2125, -0.8795],\n",
    "                                  lookat=[2.6172, 2.0475, 1.532],\n",
    "                                  up=[-0.0694, -0.9768, 0.2024])"
   ]
  },
  {
   "cell_type": "code",
   "execution_count": 14,
   "metadata": {},
   "outputs": [],
   "source": [
    "aabb = chair.get_axis_aligned_bounding_box()\n",
    "aabb.color = (1, 0, 0)\n",
    "obb = chair.get_oriented_bounding_box()\n",
    "obb.color = (0, 1, 0)\n",
    "o3d.visualization.draw_geometries([chair, aabb, obb],\n",
    "                                  zoom=0.7,\n",
    "                                  front=[0.5439, -0.2333, -0.8060],\n",
    "                                  lookat=[2.4615, 2.1331, 1.338],\n",
    "                                  up=[-0.1781, -0.9708, 0.1608])\n",
    "\n"
   ]
  },
  {
   "cell_type": "code",
   "execution_count": null,
   "metadata": {},
   "outputs": [],
   "source": []
  }
 ]
}