{
 "metadata": {
  "language_info": {
   "codemirror_mode": {
    "name": "ipython",
    "version": 3
   },
   "file_extension": ".py",
   "mimetype": "text/x-python",
   "name": "python",
   "nbconvert_exporter": "python",
   "pygments_lexer": "ipython3",
   "version": "3.8.5-final"
  },
  "orig_nbformat": 2,
  "kernelspec": {
   "name": "python38564bitvenvvenv7a84f12ca99f4a9fa19623a057ab5135",
   "display_name": "Python 3.8.5 64-bit ('venv': venv)",
   "language": "python"
  }
 },
 "nbformat": 4,
 "nbformat_minor": 2,
 "cells": [
  {
   "cell_type": "code",
   "execution_count": 38,
   "metadata": {},
   "outputs": [],
   "source": [
    "import open3d as o3d\n",
    "import numpy as np\n",
    "import math"
   ]
  },
  {
   "cell_type": "code",
   "execution_count": 39,
   "metadata": {},
   "outputs": [
    {
     "output_type": "stream",
     "name": "stdout",
     "text": [
      "PointCloud with 72198 points.\n[[-0.44946289  0.39306641 -0.94238281]\n [-0.4453125   0.39233398 -0.94042969]\n [-0.44165039  0.3918457  -0.93945312]\n ...\n [ 0.45117188 -0.33422852 -0.85693359]\n [ 0.45385742 -0.33422852 -0.85693359]\n [ 0.45678711 -0.33422852 -0.85693359]]\n"
     ]
    }
   ],
   "source": [
    "pcd = o3d.io.read_point_cloud(\"data/test_capture.ply\")\n",
    "axes = o3d.geometry.TriangleMesh.create_coordinate_frame()\n",
    "print(pcd)\n",
    "print(np.asarray(pcd.points))\n",
    "o3d.visualization.draw_geometries([pcd])"
   ]
  },
  {
   "cell_type": "code",
   "execution_count": 40,
   "metadata": {},
   "outputs": [],
   "source": [
    "plane_model, inliers = pcd.segment_plane(distance_threshold=0.01,\n",
    "                                         ransac_n=3,\n",
    "                                         num_iterations=1000)\n",
    "\n",
    "[a, b, c, d] = plane_model\n",
    "pcd = pcd.translate((0,0,d/c))\n",
    "axes = o3d.geometry.TriangleMesh.create_coordinate_frame()\n",
    "\n",
    "inlier_cloud = pcd.select_by_index(inliers)\n",
    "inlier_cloud.paint_uniform_color([1.0, 0, 0])\n",
    "outlier_cloud = pcd.select_by_index(inliers, invert=True)\n",
    "outlier_cloud.paint_uniform_color([0, 0, 1.0])\n",
    "\n",
    "o3d.visualization.draw_geometries([inlier_cloud, outlier_cloud])"
   ]
  },
  {
   "cell_type": "code",
   "execution_count": 41,
   "metadata": {},
   "outputs": [
    {
     "output_type": "stream",
     "name": "stdout",
     "text": [
      "[[ 0.99256449 -0.00261571  0.12169176]\n [-0.00261571  0.99907983  0.04280959]\n [-0.12169176 -0.04280959  0.99164432]]\n"
     ]
    }
   ],
   "source": [
    "cos_theta = c / math.sqrt(a**2 + b**2 + c**2)\n",
    "sin_theta = math.sqrt((a**2+b**2)/(a**2 + b**2 + c**2))\n",
    "u_1 = b / math.sqrt(a**2 + b**2 )\n",
    "u_2 = -a / math.sqrt(a**2 + b**2)\n",
    "\n",
    "rotation_matrix = np.array([[cos_theta + u_1**2 * (1-cos_theta), u_1*u_2*(1-cos_theta), u_2*sin_theta],\n",
    "                            [u_1*u_2*(1-cos_theta), cos_theta + u_2**2*(1- cos_theta), -u_1*sin_theta],\n",
    "                            [-u_2*sin_theta, u_1*sin_theta, cos_theta]])\n",
    "\n",
    "print(rotation_matrix)"
   ]
  },
  {
   "cell_type": "code",
   "execution_count": 42,
   "metadata": {},
   "outputs": [],
   "source": [
    "pcd.rotate(rotation_matrix)\n",
    "o3d.visualization.draw_geometries([pcd, axes])"
   ]
  },
  {
   "cell_type": "code",
   "execution_count": 43,
   "metadata": {},
   "outputs": [],
   "source": [
    "plane_model, inliers = pcd.segment_plane(distance_threshold=0.01,\n",
    "                                         ransac_n=3,\n",
    "                                         num_iterations=1000)\n",
    "\n",
    "[a, b, c, d] = plane_model\n",
    "pcd = pcd.translate((0,0,d/c))\n",
    "axes = o3d.geometry.TriangleMesh.create_coordinate_frame()\n",
    "\n",
    "inlier_cloud = pcd.select_by_index(inliers)\n",
    "inlier_cloud.paint_uniform_color([1.0, 0, 0])\n",
    "outlier_cloud = pcd.select_by_index(inliers, invert=True)\n",
    "o3d.visualization.draw_geometries([outlier_cloud])"
   ]
  },
  {
   "cell_type": "code",
   "execution_count": 44,
   "metadata": {},
   "outputs": [],
   "source": [
    "cl, ind = outlier_cloud.remove_statistical_outlier(nb_neighbors=30,\n",
    "                                                    std_ratio=2.0)\n",
    "stockpile_pcd = outlier_cloud.select_by_index(ind)\n",
    "o3d.visualization.draw_geometries([stockpile_pcd])\n"
   ]
  },
  {
   "cell_type": "code",
   "execution_count": 48,
   "metadata": {},
   "outputs": [],
   "source": [
    "hull, _ = stockpile_pcd.compute_convex_hull()\n",
    "hull_ls = o3d.geometry.LineSet.create_from_triangle_mesh(hull)\n",
    "hull_ls.paint_uniform_color((1, 0, 0))\n",
    "o3d.visualization.draw_geometries([hull])"
   ]
  },
  {
   "cell_type": "code",
   "execution_count": 19,
   "metadata": {},
   "outputs": [
    {
     "output_type": "execute_result",
     "data": {
      "text/plain": [
       "0.000712402232093026"
      ]
     },
     "metadata": {},
     "execution_count": 19
    }
   ],
   "source": [
    "hull.get_volume()"
   ]
  },
  {
   "cell_type": "code",
   "execution_count": 34,
   "metadata": {},
   "outputs": [
    {
     "output_type": "stream",
     "name": "stdout",
     "text": [
      "OrientedBoundingBox: center: (-0.063219, -0.0726969, 0.0581613), extent: 0.518175, 0.3296230.120243)\n"
     ]
    }
   ],
   "source": [
    "bounding_box = stockpile_pcd.get_oriented_bounding_box()\n",
    "o3d.visualization.draw_geometries([stockpile_pcd, bounding_box])\n",
    "print(bounding_box)"
   ]
  },
  {
   "cell_type": "code",
   "execution_count": 35,
   "metadata": {},
   "outputs": [
    {
     "output_type": "execute_result",
     "data": {
      "text/plain": [
       "0.020537804903675454"
      ]
     },
     "metadata": {},
     "execution_count": 35
    }
   ],
   "source": [
    "bounding_box.volume()"
   ]
  },
  {
   "cell_type": "code",
   "execution_count": 46,
   "metadata": {},
   "outputs": [],
   "source": [
    "radii = [0.005, 0.01, 0.02, 0.04]\n",
    "rec_mesh = o3d.geometry.TriangleMesh.create_from_point_cloud_ball_pivoting(\n",
    "    stockpile_pcd, o3d.utility.DoubleVector(radii))\n",
    "o3d.visualization.draw_geometries([rec_mesh])"
   ]
  },
  {
   "cell_type": "code",
   "execution_count": null,
   "metadata": {},
   "outputs": [],
   "source": []
  }
 ]
}