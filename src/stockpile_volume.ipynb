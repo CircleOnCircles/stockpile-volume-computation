{
 "metadata": {
  "language_info": {
   "codemirror_mode": {
    "name": "ipython",
    "version": 3
   },
   "file_extension": ".py",
   "mimetype": "text/x-python",
   "name": "python",
   "nbconvert_exporter": "python",
   "pygments_lexer": "ipython3",
   "version": "3.8.5-final"
  },
  "orig_nbformat": 2,
  "kernelspec": {
   "name": "python38564bitvenvvenv7a84f12ca99f4a9fa19623a057ab5135",
   "display_name": "Python 3.8.5 64-bit ('venv': venv)",
   "language": "python"
  }
 },
 "nbformat": 4,
 "nbformat_minor": 2,
 "cells": [
  {
   "cell_type": "code",
   "execution_count": 1,
   "metadata": {},
   "outputs": [],
   "source": [
    "import open3d as o3d\n",
    "import numpy as np\n",
    "import math"
   ]
  },
  {
   "cell_type": "code",
   "execution_count": 2,
   "metadata": {},
   "outputs": [],
   "source": [
    "pcd = o3d.io.read_point_cloud(\"data/test_capture.ply\")\n",
    "axes = o3d.geometry.TriangleMesh.create_coordinate_frame()"
   ]
  },
  {
   "cell_type": "code",
   "execution_count": 3,
   "metadata": {},
   "outputs": [
    {
     "output_type": "execute_result",
     "data": {
      "text/plain": [
       "PointCloud with 14859 points."
      ]
     },
     "metadata": {},
     "execution_count": 3
    }
   ],
   "source": [
    "plane_model, inliers = pcd.segment_plane(distance_threshold=0.01,\n",
    "                                         ransac_n=3,\n",
    "                                         num_iterations=10000)\n",
    "\n",
    "[a, b, c, d] = plane_model\n",
    "pcd = pcd.translate((0,0,d/c))\n",
    "axes = o3d.geometry.TriangleMesh.create_coordinate_frame()\n",
    "\n",
    "plane_pcd = pcd.select_by_index(inliers)\n",
    "plane_pcd.paint_uniform_color([1.0, 0, 0])\n",
    "stockpile_pcd = pcd.select_by_index(inliers, invert=True)\n",
    "stockpile_pcd.paint_uniform_color([0, 0, 1.0])"
   ]
  },
  {
   "cell_type": "code",
   "execution_count": 4,
   "metadata": {},
   "outputs": [],
   "source": [
    "cos_theta = c / math.sqrt(a**2 + b**2 + c**2)\n",
    "sin_theta = math.sqrt((a**2+b**2)/(a**2 + b**2 + c**2))\n",
    "u_1 = b / math.sqrt(a**2 + b**2 )\n",
    "u_2 = -a / math.sqrt(a**2 + b**2)\n",
    "\n",
    "rotation_matrix = np.array([[cos_theta + u_1**2 * (1-cos_theta), u_1*u_2*(1-cos_theta), u_2*sin_theta],\n",
    "                            [u_1*u_2*(1-cos_theta), cos_theta + u_2**2*(1- cos_theta), -u_1*sin_theta],\n",
    "                            [-u_2*sin_theta, u_1*sin_theta, cos_theta]])\n",
    "\n",
    "plane_pcd.rotate(rotation_matrix)\n",
    "stockpile_pcd.rotate(rotation_matrix)\n",
    "o3d.visualization.draw_geometries([plane_pcd, stockpile_pcd, axes])"
   ]
  },
  {
   "cell_type": "code",
   "execution_count": 7,
   "metadata": {},
   "outputs": [],
   "source": [
    "cl, ind = stockpile_pcd.remove_statistical_outlier(nb_neighbors=30,\n",
    "                                                    std_ratio=2.0)\n",
    "stockpile_pcd = stockpile_pcd.select_by_index(ind)\n",
    "o3d.visualization.draw_geometries([stockpile_pcd, axes])"
   ]
  },
  {
   "cell_type": "code",
   "execution_count": 8,
   "metadata": {},
   "outputs": [
    {
     "output_type": "execute_result",
     "data": {
      "text/plain": [
       "0.0008596494635752856"
      ]
     },
     "metadata": {},
     "execution_count": 8
    }
   ],
   "source": [
    "hull, _ = stockpile_pcd.compute_convex_hull()\n",
    "hull.orient_triangles()\n",
    "hull_ls = o3d.geometry.LineSet.create_from_triangle_mesh(hull)\n",
    "hull_ls.paint_uniform_color((1, 0, 0))\n",
    "o3d.visualization.draw_geometries([hull])\n",
    "hull.get_volume()"
   ]
  },
  {
   "cell_type": "code",
   "execution_count": null,
   "metadata": {},
   "outputs": [],
   "source": []
  }
 ]
}