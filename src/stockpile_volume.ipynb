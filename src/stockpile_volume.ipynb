{
 "metadata": {
  "language_info": {
   "codemirror_mode": {
    "name": "ipython",
    "version": 3
   },
   "file_extension": ".py",
   "mimetype": "text/x-python",
   "name": "python",
   "nbconvert_exporter": "python",
   "pygments_lexer": "ipython3",
   "version": "3.8.8-final"
  },
  "orig_nbformat": 2,
  "kernelspec": {
   "name": "python3",
   "display_name": "Python 3.8.8 64-bit ('venv')",
   "metadata": {
    "interpreter": {
     "hash": "e5c09e82eeea23e1eb2e11af75129d90fb127b749361cdb6a70b02f2395b7223"
    }
   }
  }
 },
 "nbformat": 4,
 "nbformat_minor": 2,
 "cells": [
  {
   "cell_type": "code",
   "execution_count": 15,
   "metadata": {},
   "outputs": [],
   "source": [
    "import open3d as o3d\n",
    "import numpy as np\n",
    "import math\n",
    "from scipy.spatial import Delaunay"
   ]
  },
  {
   "cell_type": "code",
   "execution_count": 16,
   "metadata": {},
   "outputs": [],
   "source": [
    "pcd = o3d.io.read_point_cloud(\"data/test_capture.ply\")\n",
    "axes = o3d.geometry.TriangleMesh.create_coordinate_frame()"
   ]
  },
  {
   "cell_type": "code",
   "execution_count": 17,
   "metadata": {},
   "outputs": [
    {
     "output_type": "execute_result",
     "data": {
      "text/plain": [
       "PointCloud with 14867 points."
      ]
     },
     "metadata": {},
     "execution_count": 17
    }
   ],
   "source": [
    "plane_model, inliers = pcd.segment_plane(distance_threshold=0.01,\n",
    "                                         ransac_n=3,\n",
    "                                         num_iterations=10000)\n",
    "\n",
    "[a, b, c, d] = plane_model\n",
    "pcd = pcd.translate((0,0,d/c))\n",
    "axes = o3d.geometry.TriangleMesh.create_coordinate_frame()\n",
    "\n",
    "plane_pcd = pcd.select_by_index(inliers)\n",
    "plane_pcd.paint_uniform_color([1.0, 0, 0])\n",
    "stockpile_pcd = pcd.select_by_index(inliers, invert=True)\n",
    "stockpile_pcd.paint_uniform_color([0, 0, 1.0])"
   ]
  },
  {
   "cell_type": "code",
   "execution_count": 18,
   "metadata": {},
   "outputs": [],
   "source": [
    "cos_theta = c / math.sqrt(a**2 + b**2 + c**2)\n",
    "sin_theta = math.sqrt((a**2+b**2)/(a**2 + b**2 + c**2))\n",
    "u_1 = b / math.sqrt(a**2 + b**2 )\n",
    "u_2 = -a / math.sqrt(a**2 + b**2)\n",
    "\n",
    "rotation_matrix = np.array([[cos_theta + u_1**2 * (1-cos_theta), u_1*u_2*(1-cos_theta), u_2*sin_theta],\n",
    "                            [u_1*u_2*(1-cos_theta), cos_theta + u_2**2*(1- cos_theta), -u_1*sin_theta],\n",
    "                            [-u_2*sin_theta, u_1*sin_theta, cos_theta]])\n",
    "\n",
    "plane_pcd.rotate(rotation_matrix)\n",
    "stockpile_pcd.rotate(rotation_matrix)\n",
    "o3d.visualization.draw_geometries([plane_pcd, stockpile_pcd, axes])"
   ]
  },
  {
   "cell_type": "code",
   "execution_count": 19,
   "metadata": {},
   "outputs": [
    {
     "output_type": "stream",
     "name": "stdout",
     "text": [
      "(72198, 3)\n"
     ]
    }
   ],
   "source": [
    "xyz = np.asarray(pcd.points)\n",
    "print(xyz.shape)\n",
    "xy_to_z = {}\n",
    "xy_catalog = set()\n",
    "for point in xyz:\n",
    "    xy = (point[0], point[1])\n",
    "    xy_catalog.add(xy)\n",
    "    xy_to_z[xy] = point[2]\n",
    "\n"
   ]
  },
  {
   "cell_type": "code",
   "execution_count": 8,
   "metadata": {},
   "outputs": [],
   "source": [
    "radii = [0.005, 0.01, 0.02, 0.04, 0.08]\n",
    "rec_mesh = o3d.geometry.TriangleMesh.create_from_point_cloud_ball_pivoting(\n",
    "    stockpile_pcd, o3d.utility.DoubleVector(radii))\n",
    "o3d.visualization.draw_geometries([rec_mesh])"
   ]
  },
  {
   "cell_type": "code",
   "execution_count": 9,
   "metadata": {},
   "outputs": [
    {
     "output_type": "execute_result",
     "data": {
      "text/plain": [
       "0.009977564461581311"
      ]
     },
     "metadata": {},
     "execution_count": 9
    }
   ],
   "source": [
    "hull, _ = stockpile_pcd.compute_convex_hull()\n",
    "hull.orient_triangles()\n",
    "hull_ls = o3d.geometry.LineSet.create_from_triangle_mesh(hull)\n",
    "hull_ls.paint_uniform_color((1, 0, 0))\n",
    "geo = o3d.visualization.draw_geometries([stockpile_pcd, hull_ls])\n",
    "hull.get_volume()"
   ]
  },
  {
   "cell_type": "code",
   "execution_count": null,
   "metadata": {},
   "outputs": [],
   "source": [
    "vis = o3d.visualization.Visualizer()\n",
    "vis.create_window(visible=False)\n",
    "vis.add_geometry(geo)\n",
    "vis.update_geometry(geo)\n",
    "vis.poll_events()\n",
    "vis.update_renderer()\n",
    "vis.capture_screen_image(\"asd\")\n",
    "vis.destroy_window()"
   ]
  },
  {
   "cell_type": "code",
   "execution_count": null,
   "metadata": {},
   "outputs": [],
   "source": []
  }
 ]
}